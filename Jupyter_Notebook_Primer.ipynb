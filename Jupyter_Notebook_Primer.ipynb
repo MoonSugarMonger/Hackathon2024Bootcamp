{
  "nbformat": 4,
  "nbformat_minor": 0,
  "metadata": {
    "colab": {
      "provenance": [],
      "collapsed_sections": [
        "FOElPODzo4Nq",
        "IbN35YKM__vb",
        "DPubLnwZHa7z"
      ],
      "include_colab_link": true
    },
    "kernelspec": {
      "name": "python3",
      "display_name": "Python 3"
    },
    "language_info": {
      "name": "python"
    }
  },
  "cells": [
    {
      "cell_type": "markdown",
      "metadata": {
        "id": "view-in-github",
        "colab_type": "text"
      },
      "source": [
        "<a href=\"https://colab.research.google.com/github/cassales/Hackathon2024Bootcamp/blob/master/Jupyter_Notebook_Primer.ipynb\" target=\"_parent\"><img src=\"https://colab.research.google.com/assets/colab-badge.svg\" alt=\"Open In Colab\"/></a>"
      ]
    },
    {
      "cell_type": "markdown",
      "source": [
        "# Markdown tutorial"
      ],
      "metadata": {
        "id": "346_Gl7JotFO"
      }
    },
    {
      "cell_type": "markdown",
      "source": [
        "FjkFjasklj fjsalkf asjfla fa"
      ],
      "metadata": {
        "id": "2oBkE617h_c0"
      }
    },
    {
      "cell_type": "markdown",
      "source": [
        "\n",
        "With Jupyter Notebooks we can combine both documentations with our codes for ease of reproducibility. Jupyter notebooks can be used with many programming language, but the most common language used with Jupyter Notebooks is Python."
      ],
      "metadata": {
        "id": "eG8uuyjt6daj"
      }
    },
    {
      "cell_type": "markdown",
      "source": [
        "The text blocks in the jupyter notebooks supports markdowns so **common** markdown syntaxes are supported, such as **bolding**, *italics*, [links](https://)\n",
        "\n",
        "Lists\n",
        "- bulleted list item 1\n",
        "- bulleted list item 2\n",
        "\n",
        "1.   List item\n",
        "2.   List item\n",
        "\n",
        "and other  objects eg: horizontal lines\n",
        "\n",
        "---\n",
        "\n"
      ],
      "metadata": {
        "id": "-fc9_ATW7wZC"
      }
    },
    {
      "cell_type": "markdown",
      "source": [
        "# Heading Level 1\n",
        "## Heading Level 2\n",
        "### Heading Level 3\n",
        "#### Subheading\n",
        "\n",
        "---\n",
        "\n",
        "including mathematical equations $$ \\frac{-b \\pm \\sqrt{b^2 - 4ac}}{2a} $$"
      ],
      "metadata": {
        "id": "FOElPODzo4Nq"
      }
    },
    {
      "cell_type": "markdown",
      "source": [
        "And even tables\n",
        "\n",
        "| Syntax      | Description |\n",
        "| ----------- | ----------- |\n",
        "| Header      | Title       |\n",
        "| Paragraph   | Text        |\n",
        "\n",
        " and images\n",
        " ![Image of Nick with an alpaca.](https://github.com/martianunlimited/onlineCV/blob/master/images/alpaca.png?raw=true)\n"
      ],
      "metadata": {
        "id": "nOSXLt1U-6pQ"
      }
    },
    {
      "cell_type": "markdown",
      "source": [
        "We can write programes in notebooks as though they are python scripts and section the notebooks to different sections"
      ],
      "metadata": {
        "id": "0jdJi53J_hxh"
      }
    },
    {
      "cell_type": "markdown",
      "source": [
        "# Python Primer"
      ],
      "metadata": {
        "id": "IbN35YKM__vb"
      }
    },
    {
      "cell_type": "markdown",
      "source": [
        "in Python we can assign values to variables as thought they are equations, and display them with either print or display."
      ],
      "metadata": {
        "id": "8WLePurEAEU7"
      }
    },
    {
      "cell_type": "code",
      "execution_count": null,
      "metadata": {
        "colab": {
          "base_uri": "https://localhost:8080/",
          "height": 71
        },
        "id": "tjlB5lAq5xhS",
        "outputId": "35966a15-36b5-4d01-bac6-c582442e0776"
      },
      "outputs": [
        {
          "output_type": "stream",
          "name": "stdout",
          "text": [
            "15\n"
          ]
        },
        {
          "output_type": "display_data",
          "data": {
            "text/plain": [
              "15"
            ]
          },
          "metadata": {}
        },
        {
          "output_type": "execute_result",
          "data": {
            "text/plain": [
              "15"
            ]
          },
          "metadata": {},
          "execution_count": 110
        }
      ],
      "source": [
        "a= 15\n",
        "print(a)\n",
        "display(a)\n",
        "# You can also add comments to the python code using # at the start of the line\n",
        "a"
      ]
    },
    {
      "cell_type": "code",
      "source": [
        "# let's define our own variable here, and assign a value to the variable"
      ],
      "metadata": {
        "id": "VI5tn2fV8RcD"
      },
      "execution_count": null,
      "outputs": []
    },
    {
      "cell_type": "markdown",
      "source": [
        "The assigned values are \"remembered\" and we can do any supported operations on these variables"
      ],
      "metadata": {
        "id": "kpfMSWLEAiJf"
      }
    },
    {
      "cell_type": "code",
      "source": [
        "b=24\n",
        "print(a+b)\n",
        "c=b/a\n",
        "print(c)"
      ],
      "metadata": {
        "colab": {
          "base_uri": "https://localhost:8080/"
        },
        "id": "3vYQokWnAaMZ",
        "outputId": "59e855fb-bcbf-4fe2-8cc9-97d3c62434bc"
      },
      "execution_count": null,
      "outputs": [
        {
          "output_type": "stream",
          "name": "stdout",
          "text": [
            "39\n",
            "1.6\n"
          ]
        }
      ]
    },
    {
      "cell_type": "code",
      "source": [
        "# Try your own example"
      ],
      "metadata": {
        "id": "U_WSsdlM8Z13"
      },
      "execution_count": null,
      "outputs": []
    },
    {
      "cell_type": "markdown",
      "source": [
        "a more powerful object in python is a list / array, we can create lists by writing them in [ ]"
      ],
      "metadata": {
        "id": "aCOBE-9xAx-k"
      }
    },
    {
      "cell_type": "code",
      "source": [
        "d=[a,b,45,12,c]\n",
        "print(d)"
      ],
      "metadata": {
        "colab": {
          "base_uri": "https://localhost:8080/"
        },
        "id": "HNVGso86AwlM",
        "outputId": "adee25b5-cc5a-4c8a-93ca-9be4f2101757"
      },
      "execution_count": null,
      "outputs": [
        {
          "output_type": "stream",
          "name": "stdout",
          "text": [
            "[15, 24, 45, 12, 1.6]\n"
          ]
        }
      ]
    },
    {
      "cell_type": "code",
      "source": [
        "# let's define our own list\n",
        "f=[13,15,61]\n",
        "print(f)"
      ],
      "metadata": {
        "id": "T3Wc9dBv8d7a",
        "colab": {
          "base_uri": "https://localhost:8080/"
        },
        "outputId": "99e884fc-52cb-41ca-ed4a-cf7123aa72ce"
      },
      "execution_count": null,
      "outputs": [
        {
          "output_type": "stream",
          "name": "stdout",
          "text": [
            "[13, 15, 61]\n"
          ]
        }
      ]
    },
    {
      "cell_type": "markdown",
      "source": [
        "we can add new items by using the .**append** function that is available to lists"
      ],
      "metadata": {
        "id": "iNhs0mokwj9v"
      }
    },
    {
      "cell_type": "code",
      "source": [
        "d.append(42)\n",
        "print(d)"
      ],
      "metadata": {
        "colab": {
          "base_uri": "https://localhost:8080/"
        },
        "id": "1CIkpyqVwiuT",
        "outputId": "237fd60a-00f1-4e05-90a7-8dabe99b8c70"
      },
      "execution_count": null,
      "outputs": [
        {
          "output_type": "stream",
          "name": "stdout",
          "text": [
            "[15, 24, 45, 12, 1.6, 42, 42, 42]\n"
          ]
        }
      ]
    },
    {
      "cell_type": "code",
      "source": [
        "# Let's add a new value to the list 'd'"
      ],
      "metadata": {
        "id": "cB1oOKIV9J2o"
      },
      "execution_count": null,
      "outputs": []
    },
    {
      "cell_type": "markdown",
      "source": [
        "We can also **extend** the list with another list"
      ],
      "metadata": {
        "id": "eU5ty_2jESmA"
      }
    },
    {
      "cell_type": "code",
      "source": [
        "f=[2,4,6]\n",
        "d.extend(f)\n",
        "print(d)"
      ],
      "metadata": {
        "colab": {
          "base_uri": "https://localhost:8080/"
        },
        "id": "KfKDGizcESxW",
        "outputId": "d5467999-3f7d-4335-a569-127ce205e7b1"
      },
      "execution_count": null,
      "outputs": [
        {
          "output_type": "stream",
          "name": "stdout",
          "text": [
            "[15, 24, 45, 12, 1.6, 42, 42, 42, 2, 4, 6]\n"
          ]
        }
      ]
    },
    {
      "cell_type": "markdown",
      "source": [
        "We can access elements from the list via indexing. Note that Python's index starts from 0, there are common notes we can do with the index, such as getting the last element, or getting a list of elements"
      ],
      "metadata": {
        "id": "O3QclT00BKZ3"
      }
    },
    {
      "cell_type": "code",
      "source": [
        "print(d[0])\n",
        "print(d[-1]) # last index\n",
        "print(d[1:4]) # second through fourth element, python indexing is left inclusive, and right exclusive.. that is to say 1:4 means 1,2 and 3 (not including 4)"
      ],
      "metadata": {
        "colab": {
          "base_uri": "https://localhost:8080/"
        },
        "id": "EdvvlkEyBJjw",
        "outputId": "62da833e-8a18-43e8-a72e-5441dadba829"
      },
      "execution_count": null,
      "outputs": [
        {
          "output_type": "stream",
          "name": "stdout",
          "text": [
            "15\n",
            "6\n",
            "[24, 45, 12]\n"
          ]
        }
      ]
    },
    {
      "cell_type": "code",
      "source": [
        "# let's see what d[-3] returns\n",
        "d[4:-3]"
      ],
      "metadata": {
        "id": "8F8t_d9x9N-L",
        "colab": {
          "base_uri": "https://localhost:8080/"
        },
        "outputId": "5891de03-0a24-4774-ec12-9e7943d81f0a"
      },
      "execution_count": null,
      "outputs": [
        {
          "output_type": "execute_result",
          "data": {
            "text/plain": [
              "[1.6, 42, 42, 42]"
            ]
          },
          "metadata": {},
          "execution_count": 122
        }
      ]
    },
    {
      "cell_type": "markdown",
      "source": [
        "We can do check for conditions using if and else statements, note that there is a ':' at the end of the if condition and the code is indented to show the logical blocks  "
      ],
      "metadata": {
        "id": "1m1rwuFzvaMB"
      }
    },
    {
      "cell_type": "code",
      "source": [
        "if a > b:\n",
        "  print('a is greater than b')\n",
        "else:\n",
        "  print('a is not greater than b ')"
      ],
      "metadata": {
        "colab": {
          "base_uri": "https://localhost:8080/"
        },
        "id": "nMRMpfDmvY71",
        "outputId": "02fbce4f-43be-440b-ece2-92f63689d72f"
      },
      "execution_count": null,
      "outputs": [
        {
          "output_type": "stream",
          "name": "stdout",
          "text": [
            "a is not greater than b \n"
          ]
        }
      ]
    },
    {
      "cell_type": "markdown",
      "source": [
        "We can also write loops to repeat routines"
      ],
      "metadata": {
        "id": "T_Zac24mv-Yf"
      }
    },
    {
      "cell_type": "code",
      "source": [
        "for i in range(10):\n",
        "  print(i)\n",
        "  print('repeating the code until we reach to 10')"
      ],
      "metadata": {
        "colab": {
          "base_uri": "https://localhost:8080/"
        },
        "id": "jCyLzcOVv7Uu",
        "outputId": "80e40dc7-840c-4a1c-9a57-f3a9b4d99630"
      },
      "execution_count": null,
      "outputs": [
        {
          "output_type": "stream",
          "name": "stdout",
          "text": [
            "0\n",
            "repeating the code until we reach to 10\n",
            "1\n",
            "repeating the code until we reach to 10\n",
            "2\n",
            "repeating the code until we reach to 10\n",
            "3\n",
            "repeating the code until we reach to 10\n",
            "4\n",
            "repeating the code until we reach to 10\n",
            "5\n",
            "repeating the code until we reach to 10\n",
            "6\n",
            "repeating the code until we reach to 10\n",
            "7\n",
            "repeating the code until we reach to 10\n",
            "8\n",
            "repeating the code until we reach to 10\n",
            "9\n",
            "repeating the code until we reach to 10\n"
          ]
        }
      ]
    },
    {
      "cell_type": "markdown",
      "source": [
        "Or go through every element in the list"
      ],
      "metadata": {
        "id": "oVaFfqS2D-_b"
      }
    },
    {
      "cell_type": "code",
      "source": [
        "for i in d:\n",
        "  print(i*5)"
      ],
      "metadata": {
        "colab": {
          "base_uri": "https://localhost:8080/"
        },
        "id": "nlxjtJlPD-GT",
        "outputId": "4be77355-c5bb-4aeb-81fc-ab95ab392bcd"
      },
      "execution_count": null,
      "outputs": [
        {
          "output_type": "stream",
          "name": "stdout",
          "text": [
            "75\n",
            "120\n",
            "225\n",
            "60\n",
            "8.0\n",
            "210\n",
            "210\n",
            "210\n",
            "10\n",
            "20\n",
            "30\n"
          ]
        }
      ]
    },
    {
      "cell_type": "markdown",
      "source": [
        "We can also do something called list comprehension, which allows us to apply mathematical functions to all the elements in the list"
      ],
      "metadata": {
        "id": "4z_mTzufCHcR"
      }
    },
    {
      "cell_type": "code",
      "source": [
        "\n",
        "e = [x**2 for x in d ]\n",
        "## Equivalent to remember that .append is a handy way we can add items into an existing list\n",
        "g=[]\n",
        "for x in d:\n",
        "  g.append(x**2)\n",
        "print(e)\n",
        "print(g)"
      ],
      "metadata": {
        "colab": {
          "base_uri": "https://localhost:8080/"
        },
        "id": "MtWRhFwsB8iI",
        "outputId": "0bef0f72-1165-4379-80d5-e0a06a335a90"
      },
      "execution_count": null,
      "outputs": [
        {
          "output_type": "stream",
          "name": "stdout",
          "text": [
            "[225, 576, 2025, 144, 2.5600000000000005, 1764, 1764, 1764, 4, 16, 36]\n",
            "[225, 576, 2025, 144, 2.5600000000000005, 1764, 1764, 1764, 4, 16, 36]\n"
          ]
        }
      ]
    },
    {
      "cell_type": "markdown",
      "source": [
        "Feel free to try out some python code yourself (don't worry, it takes a lot to break colab, )"
      ],
      "metadata": {
        "id": "TYZ6etB5sKNv"
      }
    },
    {
      "cell_type": "code",
      "source": [
        "### Try it yourself"
      ],
      "metadata": {
        "id": "qv7vGGbnsHFH"
      },
      "execution_count": null,
      "outputs": []
    },
    {
      "cell_type": "markdown",
      "source": [
        "## Numpy :- a commonly used mathematical library"
      ],
      "metadata": {
        "id": "oc8IfI_AhcNt"
      }
    },
    {
      "cell_type": "markdown",
      "source": [
        "A list supports very basic operations, but we can extend with further with python libraries, one useful library is called numpy which gives us more functionality to lists"
      ],
      "metadata": {
        "id": "sCx6GJvlCd5w"
      }
    },
    {
      "cell_type": "code",
      "source": [
        "import numpy as np"
      ],
      "metadata": {
        "id": "KuJthe4uCxm0"
      },
      "execution_count": null,
      "outputs": []
    },
    {
      "cell_type": "code",
      "source": [
        "f=np.array(d)\n",
        "print(f)"
      ],
      "metadata": {
        "colab": {
          "base_uri": "https://localhost:8080/"
        },
        "id": "SOIgilCTCuit",
        "outputId": "2b72408b-a22c-45be-f57f-efe730e6a4d2"
      },
      "execution_count": null,
      "outputs": [
        {
          "output_type": "stream",
          "name": "stdout",
          "text": [
            "[15.  24.  45.  12.   1.6 42.  42.  42.   2.   4.   6. ]\n"
          ]
        }
      ]
    },
    {
      "cell_type": "markdown",
      "source": [
        "Now we can do things like, finding the average/ maximum /minimum values, and it also extends the capabilities of the list such as finding values greater than a particular value\n",
        "\n",
        "\n"
      ],
      "metadata": {
        "id": "eFaQn8ipC-RQ"
      }
    },
    {
      "cell_type": "code",
      "source": [
        "print(np.sum(d))\n",
        "print(np.max(f))\n",
        "print(f[f>20])\n"
      ],
      "metadata": {
        "colab": {
          "base_uri": "https://localhost:8080/"
        },
        "id": "EExlVSxqC9Nu",
        "outputId": "fd2b5c52-bd91-43c3-8221-34dc1a4b7953"
      },
      "execution_count": null,
      "outputs": [
        {
          "output_type": "stream",
          "name": "stdout",
          "text": [
            "235.6\n",
            "45.0\n",
            "[24. 45. 42. 42. 42.]\n"
          ]
        }
      ]
    },
    {
      "cell_type": "markdown",
      "source": [
        "You can also **sort** the elements, or find the location (index) of the maximum value"
      ],
      "metadata": {
        "id": "5uoFOjPKGwK6"
      }
    },
    {
      "cell_type": "code",
      "source": [
        "print(np.sort(f))\n",
        "print(np.argmax(f))\n"
      ],
      "metadata": {
        "colab": {
          "base_uri": "https://localhost:8080/"
        },
        "id": "4rBB8uzFGQDj",
        "outputId": "a23a0aea-a3ac-4f3a-b118-4974c930d08b"
      },
      "execution_count": null,
      "outputs": [
        {
          "output_type": "stream",
          "name": "stdout",
          "text": [
            "[ 1.6  2.   4.   6.  12.  15.  24.  42.  42.  42.  45. ]\n",
            "2\n"
          ]
        }
      ]
    },
    {
      "cell_type": "markdown",
      "source": [
        "Another useful library is matplotlib which allows us to visualize the data."
      ],
      "metadata": {
        "id": "iaMJGqJEGVWP"
      }
    },
    {
      "cell_type": "code",
      "source": [
        "import matplotlib.pyplot as plt"
      ],
      "metadata": {
        "id": "udYeXdWuFknP"
      },
      "execution_count": null,
      "outputs": []
    },
    {
      "cell_type": "code",
      "source": [
        "plt.plot(d)\n",
        "plt.show()"
      ],
      "metadata": {
        "colab": {
          "base_uri": "https://localhost:8080/",
          "height": 430
        },
        "id": "0l_KDeo_HDRd",
        "outputId": "fe9b7c1e-b5ab-4bab-bbca-5bc6fa8c61e5"
      },
      "execution_count": null,
      "outputs": [
        {
          "output_type": "display_data",
          "data": {
            "text/plain": [
              "<Figure size 640x480 with 1 Axes>"
            ],
            "image/png": "[encoded data removed]"
          },
          "metadata": {}
        }
      ]
    },
    {
      "cell_type": "code",
      "source": [
        "plt.scatter(d,e)\n",
        "plt.title('a plot of e vs d')\n",
        "plt.show()"
      ],
      "metadata": {
        "colab": {
          "base_uri": "https://localhost:8080/",
          "height": 452
        },
        "id": "6O528-4tHKQ9",
        "outputId": "9fc98b90-901f-4298-8d48-b2b241a9f028"
      },
      "execution_count": null,
      "outputs": [
        {
          "output_type": "display_data",
          "data": {
            "text/plain": [
              "<Figure size 640x480 with 1 Axes>"
            ],
            "image/png": "[encoded data removed]"
          },
          "metadata": {}
        }
      ]
    },
    {
      "cell_type": "code",
      "source": [],
      "metadata": {
        "id": "2VREXTlypnWL"
      },
      "execution_count": null,
      "outputs": []
    },
    {
      "cell_type": "markdown",
      "source": [
        "# A sample machine learning notebook"
      ],
      "metadata": {
        "id": "DPubLnwZHa7z"
      }
    },
    {
      "cell_type": "markdown",
      "source": [
        "\n",
        "In this following block, we will load the following libraries and functions that we will be using\n",
        "\n",
        "- pandas :- A library focused on data processing and manipulation\n",
        "\n",
        "- seaborn :- A powerful visualization library with user friendly features\n",
        "\n",
        "- matplotlib :- A native plotting library seaborn is built upon\n",
        "\n",
        "- StandardScaler :- a function used to normalize (scale the values in the features) so that the features are relatively in the same scale\n",
        "\n",
        "- GridSearchCV :- a helper function to systematically evaluate the performance of a machine learning algorithm over a provided list of parameters\n"
      ],
      "metadata": {
        "id": "8mRCUPDUHqji"
      }
    },
    {
      "cell_type": "code",
      "source": [
        "import pandas as pd\n",
        "import seaborn as sns\n",
        "import matplotlib.pyplot as plt\n",
        "from sklearn.preprocessing import StandardScaler\n",
        "from sklearn.model_selection import GridSearchCV"
      ],
      "metadata": {
        "id": "hrP6RMU7IULe"
      },
      "execution_count": null,
      "outputs": []
    },
    {
      "cell_type": "markdown",
      "source": [
        "In the next block, we will download the data files from my github repository\n"
      ],
      "metadata": {
        "id": "wLjpL4FcIY1g"
      }
    },
    {
      "cell_type": "code",
      "source": [
        "!wget https://raw.githubusercontent.com/nlim-uow/my_notes/main/housing_train.csv\n",
        "!wget https://raw.githubusercontent.com/nlim-uow/my_notes/main/housing_test.csv"
      ],
      "metadata": {
        "colab": {
          "base_uri": "https://localhost:8080/"
        },
        "id": "QoCiwIj_IaXw",
        "outputId": "c2eb811e-06de-4c2e-98bf-5e524ea6b2a3"
      },
      "execution_count": null,
      "outputs": [
        {
          "output_type": "stream",
          "name": "stdout",
          "text": [
            "--2024-08-06 21:46:12--  https://raw.githubusercontent.com/nlim-uow/my_notes/main/housing_train.csv\n",
            "Resolving raw.githubusercontent.com (raw.githubusercontent.com)... 185.199.111.133, 185.199.109.133, 185.199.110.133, ...\n",
            "Connecting to raw.githubusercontent.com (raw.githubusercontent.com)|185.199.111.133|:443... connected.\n",
            "HTTP request sent, awaiting response... 200 OK\n",
            "Length: 16017 (16K) [text/plain]\n",
            "Saving to: ‘housing_train.csv.2’\n",
            "\n",
            "\rhousing_train.csv.2   0%[                    ]       0  --.-KB/s               \rhousing_train.csv.2 100%[===================>]  15.64K  --.-KB/s    in 0s      \n",
            "\n",
            "2024-08-06 21:46:13 (94.3 MB/s) - ‘housing_train.csv.2’ saved [16017/16017]\n",
            "\n",
            "--2024-08-06 21:46:13--  https://raw.githubusercontent.com/nlim-uow/my_notes/main/housing_test.csv\n",
            "Resolving raw.githubusercontent.com (raw.githubusercontent.com)... 185.199.108.133, 185.199.110.133, 185.199.109.133, ...\n",
            "Connecting to raw.githubusercontent.com (raw.githubusercontent.com)|185.199.108.133|:443... connected.\n",
            "HTTP request sent, awaiting response... 200 OK\n",
            "Length: 4144 (4.0K) [text/plain]\n",
            "Saving to: ‘housing_test.csv.4’\n",
            "\n",
            "housing_test.csv.4  100%[===================>]   4.05K  --.-KB/s    in 0s      \n",
            "\n",
            "2024-08-06 21:46:13 (50.8 MB/s) - ‘housing_test.csv.4’ saved [4144/4144]\n",
            "\n"
          ]
        }
      ]
    },
    {
      "cell_type": "markdown",
      "source": [
        "and load the csv file using Pandas as a dataframe\n"
      ],
      "metadata": {
        "id": "21d0klmZIqV5"
      }
    },
    {
      "cell_type": "code",
      "source": [
        "df_train=pd.read_csv('housing_train.csv')\n",
        "df_test=pd.read_csv('housing_test.csv')"
      ],
      "metadata": {
        "id": "ZwOySOQwIpQ8"
      },
      "execution_count": null,
      "outputs": []
    },
    {
      "cell_type": "markdown",
      "source": [
        "again, a good practice is to look at the summary and the first few entries of the dataframe. This dataset is \"clean\" and do not require additional preprocessing. For examples of data that require cleaning and how we process them, please look at the companion notebook in module 2"
      ],
      "metadata": {
        "id": "dRTQW9lfI6C3"
      }
    },
    {
      "cell_type": "code",
      "source": [
        "df_train.info()"
      ],
      "metadata": {
        "colab": {
          "base_uri": "https://localhost:8080/"
        },
        "id": "wNuIBhAuI--V",
        "outputId": "5ec30864-8010-4308-c4ff-45037424e031"
      },
      "execution_count": null,
      "outputs": [
        {
          "output_type": "stream",
          "name": "stdout",
          "text": [
            "<class 'pandas.core.frame.DataFrame'>\n",
            "RangeIndex: 331 entries, 0 to 330\n",
            "Data columns (total 7 columns):\n",
            " #   Column                                  Non-Null Count  Dtype  \n",
            "---  ------                                  --------------  -----  \n",
            " 0   X1 transaction date                     331 non-null    float64\n",
            " 1   X2 house age                            331 non-null    float64\n",
            " 2   X3 distance to the nearest MRT station  331 non-null    float64\n",
            " 3   X4 number of convenience stores         331 non-null    int64  \n",
            " 4   X5 latitude                             331 non-null    float64\n",
            " 5   X6 longitude                            331 non-null    float64\n",
            " 6   Y house price of unit area              331 non-null    float64\n",
            "dtypes: float64(6), int64(1)\n",
            "memory usage: 18.2 KB\n"
          ]
        }
      ]
    },
    {
      "cell_type": "code",
      "source": [
        "df_train.head()"
      ],
      "metadata": {
        "colab": {
          "base_uri": "https://localhost:8080/",
          "height": 240
        },
        "id": "osRqpnD-JGxg",
        "outputId": "0440f3f2-fe47-4ada-8e3c-e0d822cbdb7e"
      },
      "execution_count": null,
      "outputs": [
        {
          "output_type": "execute_result",
          "data": {
            "text/plain": [
              "   X1 transaction date  X2 house age  X3 distance to the nearest MRT station  \\\n",
              "0             2012.750          13.5                               4197.3490   \n",
              "1             2013.333          37.2                                186.5101   \n",
              "2             2013.083          14.0                                438.8513   \n",
              "3             2013.333           1.7                                329.9747   \n",
              "4             2012.667          37.1                                918.6357   \n",
              "\n",
              "   X4 number of convenience stores  X5 latitude  X6 longitude  \\\n",
              "0                                0     24.93885     121.50383   \n",
              "1                                9     24.97703     121.54265   \n",
              "2                                1     24.97493     121.52730   \n",
              "3                                5     24.98254     121.54395   \n",
              "4                                1     24.97198     121.55063   \n",
              "\n",
              "   Y house price of unit area  \n",
              "0                        18.6  \n",
              "1                        78.3  \n",
              "2                        42.6  \n",
              "3                        50.4  \n",
              "4                        31.9  "
            ],
            "text/html": [
              "\n",
              "  <div id=\"df-caa69a17-7a61-424f-a399-db74e23dfda3\" class=\"colab-df-container\">\n",
              "    <div>\n",
              "<style scoped>\n",
              "    .dataframe tbody tr th:only-of-type {\n",
              "        vertical-align: middle;\n",
              "    }\n",
              "\n",
              "    .dataframe tbody tr th {\n",
              "        vertical-align: top;\n",
              "    }\n",
              "\n",
              "    .dataframe thead th {\n",
              "        text-align: right;\n",
              "    }\n",
              "</style>\n",
              "<table border=\"1\" class=\"dataframe\">\n",
              "  <thead>\n",
              "    <tr style=\"text-align: right;\">\n",
              "      <th></th>\n",
              "      <th>X1 transaction date</th>\n",
              "      <th>X2 house age</th>\n",
              "      <th>X3 distance to the nearest MRT station</th>\n",
              "      <th>X4 number of convenience stores</th>\n",
              "      <th>X5 latitude</th>\n",
              "      <th>X6 longitude</th>\n",
              "      <th>Y house price of unit area</th>\n",
              "    </tr>\n",
              "  </thead>\n",
              "  <tbody>\n",
              "    <tr>\n",
              "      <th>0</th>\n",
              "      <td>2012.750</td>\n",
              "      <td>13.5</td>\n",
              "      <td>4197.3490</td>\n",
              "      <td>0</td>\n",
              "      <td>24.93885</td>\n",
              "      <td>121.50383</td>\n",
              "      <td>18.6</td>\n",
              "    </tr>\n",
              "    <tr>\n",
              "      <th>1</th>\n",
              "      <td>2013.333</td>\n",
              "      <td>37.2</td>\n",
              "      <td>186.5101</td>\n",
              "      <td>9</td>\n",
              "      <td>24.97703</td>\n",
              "      <td>121.54265</td>\n",
              "      <td>78.3</td>\n",
              "    </tr>\n",
              "    <tr>\n",
              "      <th>2</th>\n",
              "      <td>2013.083</td>\n",
              "      <td>14.0</td>\n",
              "      <td>438.8513</td>\n",
              "      <td>1</td>\n",
              "      <td>24.97493</td>\n",
              "      <td>121.52730</td>\n",
              "      <td>42.6</td>\n",
              "    </tr>\n",
              "    <tr>\n",
              "      <th>3</th>\n",
              "      <td>2013.333</td>\n",
              "      <td>1.7</td>\n",
              "      <td>329.9747</td>\n",
              "      <td>5</td>\n",
              "      <td>24.98254</td>\n",
              "      <td>121.54395</td>\n",
              "      <td>50.4</td>\n",
              "    </tr>\n",
              "    <tr>\n",
              "      <th>4</th>\n",
              "      <td>2012.667</td>\n",
              "      <td>37.1</td>\n",
              "      <td>918.6357</td>\n",
              "      <td>1</td>\n",
              "      <td>24.97198</td>\n",
              "      <td>121.55063</td>\n",
              "      <td>31.9</td>\n",
              "    </tr>\n",
              "  </tbody>\n",
              "</table>\n",
              "</div>\n",
              "    <div class=\"colab-df-buttons\">\n",
              "\n",
              "  <div class=\"colab-df-container\">\n",
              "    <button class=\"colab-df-convert\" onclick=\"convertToInteractive('df-caa69a17-7a61-424f-a399-db74e23dfda3')\"\n",
              "            title=\"Convert this dataframe to an interactive table.\"\n",
              "            style=\"display:none;\">\n",
              "\n",
              "  <svg xmlns=\"http://www.w3.org/2000/svg\" height=\"24px\" viewBox=\"0 -960 960 960\">\n",
              "    <path d=\"M120-120v-720h720v720H120Zm60-500h600v-160H180v160Zm220 220h160v-160H400v160Zm0 220h160v-160H400v160ZM180-400h160v-160H180v160Zm440 0h160v-160H620v160ZM180-180h160v-160H180v160Zm440 0h160v-160H620v160Z\"/>\n",
              "  </svg>\n",
              "    </button>\n",
              "\n",
              "  <style>\n",
              "    .colab-df-container {\n",
              "      display:flex;\n",
              "      gap: 12px;\n",
              "    }\n",
              "\n",
              "    .colab-df-convert {\n",
              "      background-color: #E8F0FE;\n",
              "      border: none;\n",
              "      border-radius: 50%;\n",
              "      cursor: pointer;\n",
              "      display: none;\n",
              "      fill: #1967D2;\n",
              "      height: 32px;\n",
              "      padding: 0 0 0 0;\n",
              "      width: 32px;\n",
              "    }\n",
              "\n",
              "    .colab-df-convert:hover {\n",
              "      background-color: #E2EBFA;\n",
              "      box-shadow: 0px 1px 2px rgba(60, 64, 67, 0.3), 0px 1px 3px 1px rgba(60, 64, 67, 0.15);\n",
              "      fill: #174EA6;\n",
              "    }\n",
              "\n",
              "    .colab-df-buttons div {\n",
              "      margin-bottom: 4px;\n",
              "    }\n",
              "\n",
              "    [theme=dark] .colab-df-convert {\n",
              "      background-color: #3B4455;\n",
              "      fill: #D2E3FC;\n",
              "    }\n",
              "\n",
              "    [theme=dark] .colab-df-convert:hover {\n",
              "      background-color: #434B5C;\n",
              "      box-shadow: 0px 1px 3px 1px rgba(0, 0, 0, 0.15);\n",
              "      filter: drop-shadow(0px 1px 2px rgba(0, 0, 0, 0.3));\n",
              "      fill: #FFFFFF;\n",
              "    }\n",
              "  </style>\n",
              "\n",
              "    <script>\n",
              "      const buttonEl =\n",
              "        document.querySelector('#df-caa69a17-7a61-424f-a399-db74e23dfda3 button.colab-df-convert');\n",
              "      buttonEl.style.display =\n",
              "        google.colab.kernel.accessAllowed ? 'block' : 'none';\n",
              "\n",
              "      async function convertToInteractive(key) {\n",
              "        const element = document.querySelector('#df-caa69a17-7a61-424f-a399-db74e23dfda3');\n",
              "        const dataTable =\n",
              "          await google.colab.kernel.invokeFunction('convertToInteractive',\n",
              "                                                    [key], {});\n",
              "        if (!dataTable) return;\n",
              "\n",
              "        const docLinkHtml = 'Like what you see? Visit the ' +\n",
              "          '<a target=\"_blank\" href=https://colab.research.google.com/notebooks/data_table.ipynb>data table notebook</a>'\n",
              "          + ' to learn more about interactive tables.';\n",
              "        element.innerHTML = '';\n",
              "        dataTable['output_type'] = 'display_data';\n",
              "        await google.colab.output.renderOutput(dataTable, element);\n",
              "        const docLink = document.createElement('div');\n",
              "        docLink.innerHTML = docLinkHtml;\n",
              "        element.appendChild(docLink);\n",
              "      }\n",
              "    </script>\n",
              "  </div>\n",
              "\n",
              "\n",
              "<div id=\"df-1ea85e21-78ff-48ed-bf4a-eececf48c602\">\n",
              "  <button class=\"colab-df-quickchart\" onclick=\"quickchart('df-1ea85e21-78ff-48ed-bf4a-eececf48c602')\"\n",
              "            title=\"Suggest charts\"\n",
              "            style=\"display:none;\">\n",
              "\n",
              "<svg xmlns=\"http://www.w3.org/2000/svg\" height=\"24px\"viewBox=\"0 0 24 24\"\n",
              "     width=\"24px\">\n",
              "    <g>\n",
              "        <path d=\"M19 3H5c-1.1 0-2 .9-2 2v14c0 1.1.9 2 2 2h14c1.1 0 2-.9 2-2V5c0-1.1-.9-2-2-2zM9 17H7v-7h2v7zm4 0h-2V7h2v10zm4 0h-2v-4h2v4z\"/>\n",
              "    </g>\n",
              "</svg>\n",
              "  </button>\n",
              "\n",
              "<style>\n",
              "  .colab-df-quickchart {\n",
              "      --bg-color: #E8F0FE;\n",
              "      --fill-color: #1967D2;\n",
              "      --hover-bg-color: #E2EBFA;\n",
              "      --hover-fill-color: #174EA6;\n",
              "      --disabled-fill-color: #AAA;\n",
              "      --disabled-bg-color: #DDD;\n",
              "  }\n",
              "\n",
              "  [theme=dark] .colab-df-quickchart {\n",
              "      --bg-color: #3B4455;\n",
              "      --fill-color: #D2E3FC;\n",
              "      --hover-bg-color: #434B5C;\n",
              "      --hover-fill-color: #FFFFFF;\n",
              "      --disabled-bg-color: #3B4455;\n",
              "      --disabled-fill-color: #666;\n",
              "  }\n",
              "\n",
              "  .colab-df-quickchart {\n",
              "    background-color: var(--bg-color);\n",
              "    border: none;\n",
              "    border-radius: 50%;\n",
              "    cursor: pointer;\n",
              "    display: none;\n",
              "    fill: var(--fill-color);\n",
              "    height: 32px;\n",
              "    padding: 0;\n",
              "    width: 32px;\n",
              "  }\n",
              "\n",
              "  .colab-df-quickchart:hover {\n",
              "    background-color: var(--hover-bg-color);\n",
              "    box-shadow: 0 1px 2px rgba(60, 64, 67, 0.3), 0 1px 3px 1px rgba(60, 64, 67, 0.15);\n",
              "    fill: var(--button-hover-fill-color);\n",
              "  }\n",
              "\n",
              "  .colab-df-quickchart-complete:disabled,\n",
              "  .colab-df-quickchart-complete:disabled:hover {\n",
              "    background-color: var(--disabled-bg-color);\n",
              "    fill: var(--disabled-fill-color);\n",
              "    box-shadow: none;\n",
              "  }\n",
              "\n",
              "  .colab-df-spinner {\n",
              "    border: 2px solid var(--fill-color);\n",
              "    border-color: transparent;\n",
              "    border-bottom-color: var(--fill-color);\n",
              "    animation:\n",
              "      spin 1s steps(1) infinite;\n",
              "  }\n",
              "\n",
              "  @keyframes spin {\n",
              "    0% {\n",
              "      border-color: transparent;\n",
              "      border-bottom-color: var(--fill-color);\n",
              "      border-left-color: var(--fill-color);\n",
              "    }\n",
              "    20% {\n",
              "      border-color: transparent;\n",
              "      border-left-color: var(--fill-color);\n",
              "      border-top-color: var(--fill-color);\n",
              "    }\n",
              "    30% {\n",
              "      border-color: transparent;\n",
              "      border-left-color: var(--fill-color);\n",
              "      border-top-color: var(--fill-color);\n",
              "      border-right-color: var(--fill-color);\n",
              "    }\n",
              "    40% {\n",
              "      border-color: transparent;\n",
              "      border-right-color: var(--fill-color);\n",
              "      border-top-color: var(--fill-color);\n",
              "    }\n",
              "    60% {\n",
              "      border-color: transparent;\n",
              "      border-right-color: var(--fill-color);\n",
              "    }\n",
              "    80% {\n",
              "      border-color: transparent;\n",
              "      border-right-color: var(--fill-color);\n",
              "      border-bottom-color: var(--fill-color);\n",
              "    }\n",
              "    90% {\n",
              "      border-color: transparent;\n",
              "      border-bottom-color: var(--fill-color);\n",
              "    }\n",
              "  }\n",
              "</style>\n",
              "\n",
              "  <script>\n",
              "    async function quickchart(key) {\n",
              "      const quickchartButtonEl =\n",
              "        document.querySelector('#' + key + ' button');\n",
              "      quickchartButtonEl.disabled = true;  // To prevent multiple clicks.\n",
              "      quickchartButtonEl.classList.add('colab-df-spinner');\n",
              "      try {\n",
              "        const charts = await google.colab.kernel.invokeFunction(\n",
              "            'suggestCharts', [key], {});\n",
              "      } catch (error) {\n",
              "        console.error('Error during call to suggestCharts:', error);\n",
              "      }\n",
              "      quickchartButtonEl.classList.remove('colab-df-spinner');\n",
              "      quickchartButtonEl.classList.add('colab-df-quickchart-complete');\n",
              "    }\n",
              "    (() => {\n",
              "      let quickchartButtonEl =\n",
              "        document.querySelector('#df-1ea85e21-78ff-48ed-bf4a-eececf48c602 button');\n",
              "      quickchartButtonEl.style.display =\n",
              "        google.colab.kernel.accessAllowed ? 'block' : 'none';\n",
              "    })();\n",
              "  </script>\n",
              "</div>\n",
              "\n",
              "    </div>\n",
              "  </div>\n"
            ],
            "application/vnd.google.colaboratory.intrinsic+json": {
              "type": "dataframe",
              "variable_name": "df_train",
              "summary": "{\n  \"name\": \"df_train\",\n  \"rows\": 331,\n  \"fields\": [\n    {\n      \"column\": \"X1 transaction date\",\n      \"properties\": {\n        \"dtype\": \"number\",\n        \"std\": 0.28470822978177074,\n        \"min\": 2012.667,\n        \"max\": 2013.583,\n        \"num_unique_values\": 12,\n        \"samples\": [\n          2013.417,\n          2013.167,\n          2012.75\n        ],\n        \"semantic_type\": \"\",\n        \"description\": \"\"\n      }\n    },\n    {\n      \"column\": \"X2 house age\",\n      \"properties\": {\n        \"dtype\": \"number\",\n        \"std\": 11.472047188853725,\n        \"min\": 0.0,\n        \"max\": 41.4,\n        \"num_unique_values\": 206,\n        \"samples\": [\n          0.0,\n          13.6,\n          12.6\n        ],\n        \"semantic_type\": \"\",\n        \"description\": \"\"\n      }\n    },\n    {\n      \"column\": \"X3 distance to the nearest MRT station\",\n      \"properties\": {\n        \"dtype\": \"number\",\n        \"std\": 1286.213185022638,\n        \"min\": 23.38284,\n        \"max\": 6488.021,\n        \"num_unique_values\": 221,\n        \"samples\": [\n          270.8895,\n          600.8604,\n          181.0766\n        ],\n        \"semantic_type\": \"\",\n        \"description\": \"\"\n      }\n    },\n    {\n      \"column\": \"X4 number of convenience stores\",\n      \"properties\": {\n        \"dtype\": \"number\",\n        \"std\": 2,\n        \"min\": 0,\n        \"max\": 10,\n        \"num_unique_values\": 11,\n        \"samples\": [\n          2,\n          0,\n          10\n        ],\n        \"semantic_type\": \"\",\n        \"description\": \"\"\n      }\n    },\n    {\n      \"column\": \"X5 latitude\",\n      \"properties\": {\n        \"dtype\": \"number\",\n        \"std\": 0.012824041574885283,\n        \"min\": 24.93207,\n        \"max\": 25.01459,\n        \"num_unique_values\": 202,\n        \"samples\": [\n          24.96447,\n          24.97845,\n          24.98085\n        ],\n        \"semantic_type\": \"\",\n        \"description\": \"\"\n      }\n    },\n    {\n      \"column\": \"X6 longitude\",\n      \"properties\": {\n        \"dtype\": \"number\",\n        \"std\": 0.015462883469248612,\n        \"min\": 121.47353,\n        \"max\": 121.56627,\n        \"num_unique_values\": 203,\n        \"samples\": [\n          121.53889,\n          121.56174,\n          121.53951\n        ],\n        \"semantic_type\": \"\",\n        \"description\": \"\"\n      }\n    },\n    {\n      \"column\": \"Y house price of unit area\",\n      \"properties\": {\n        \"dtype\": \"number\",\n        \"std\": 14.063066371151306,\n        \"min\": 7.6,\n        \"max\": 117.5,\n        \"num_unique_values\": 234,\n        \"samples\": [\n          16.7,\n          11.2,\n          47.4\n        ],\n        \"semantic_type\": \"\",\n        \"description\": \"\"\n      }\n    }\n  ]\n}"
            }
          },
          "metadata": {},
          "execution_count": 139
        }
      ]
    },
    {
      "cell_type": "markdown",
      "source": [
        "## In the next blocks, we will visualize the data. It is usually a good practice to do some quick visualization, to glean insights on which machine learning algorithm may be more performant"
      ],
      "metadata": {
        "id": "cms-GeZsJJ7L"
      }
    },
    {
      "cell_type": "code",
      "source": [
        "plt.scatter(df_train['X6 longitude'],df_train['X5 latitude'],c=df_train['Y house price of unit area'])\n",
        "plt.colorbar()\n",
        "plt.show()"
      ],
      "metadata": {
        "colab": {
          "base_uri": "https://localhost:8080/",
          "height": 430
        },
        "id": "RWI6atEqJLGh",
        "outputId": "aeaf00d0-23ad-4fb3-d73d-98f741d51b6a"
      },
      "execution_count": null,
      "outputs": [
        {
          "output_type": "display_data",
          "data": {
            "text/plain": [
              "<Figure size 640x480 with 2 Axes>"
            ],
            "image/png": "[encoded data removed]"
          },
          "metadata": {}
        }
      ]
    },
    {
      "cell_type": "markdown",
      "source": [
        "One key advantage of python is its extensibilty and the community working on python. There is usually a some bespoke library that extends the capability. in the below example we are leveraging a python library that includes the street  map, we can use that to help with understanding our data further"
      ],
      "metadata": {
        "id": "p51_k6CM47CW"
      }
    },
    {
      "cell_type": "code",
      "source": [
        "import plotly.express as px\n",
        "fig=px.scatter_mapbox(df_train, lat='X5 latitude',lon='X6 longitude',color='Y house price of unit area', mapbox_style='open-street-map',zoom=11,height=640,width=800)\n",
        "fig.show()"
      ],
      "metadata": {
        "id": "z4MKlgy6JPk6"
      },
      "execution_count": null,
      "outputs": []
    },
    {
      "cell_type": "code",
      "source": [
        "sns.pairplot(df_train)\n",
        "plt.show()"
      ],
      "metadata": {
        "id": "bnn8T5gSJdYZ"
      },
      "execution_count": null,
      "outputs": []
    },
    {
      "cell_type": "markdown",
      "source": [
        "## We will now learn from the data. We now split the data, it is customary to prepend the predictor features with \"X\", and the target predicted values with y\n"
      ],
      "metadata": {
        "id": "lH9hkqyhJlL1"
      }
    },
    {
      "cell_type": "code",
      "source": [
        "X_train=df_train.drop(columns=['Y house price of unit area'])\n",
        "X_test=df_test.drop(columns=['Y house price of unit area'])\n",
        "y_train=df_train['Y house price of unit area']\n",
        "y_test=df_test['Y house price of unit area']"
      ],
      "metadata": {
        "id": "wO5bKqg6JsBn"
      },
      "execution_count": null,
      "outputs": []
    },
    {
      "cell_type": "markdown",
      "source": [
        "In the next block, we imported some of the machine learning algorithms, here are some algorithms we will look at\n",
        "\n",
        "- Linear models (Linear Regression, SGDRegressor (including Lasso, Ridge, ElasticNet regressor)\n",
        "\n",
        "- Decision trees based method (Single decision tree, ensemble of decision trees (Random Forest, Gradient Boosted Trees))\n",
        "\n",
        "- Distance based methods (kNeighbourRegressor)\n",
        "\n",
        "- Kernel (Non-linear) models (Support Vector Regression)\n"
      ],
      "metadata": {
        "id": "jfe_iWZNJ2h5"
      }
    },
    {
      "cell_type": "code",
      "source": [
        "from sklearn.linear_model import LinearRegression, SGDRegressor\n",
        "from sklearn.tree import DecisionTreeRegressor\n",
        "from sklearn.ensemble import RandomForestRegressor, AdaBoostRegressor\n",
        "from sklearn.neighbors import KNeighborsRegressor\n",
        "from sklearn.svm import SVR"
      ],
      "metadata": {
        "id": "CqUbXqe3KBrm"
      },
      "execution_count": null,
      "outputs": []
    },
    {
      "cell_type": "markdown",
      "source": [
        "Linear Regression (also known in Statistics as Ordinary Least Squared (OLS) Regression) is a simple statistical method to fit a linear equation through the data that minimizes the error between the target value and the predicted value"
      ],
      "metadata": {
        "id": "sL53H8qaJ_ow"
      }
    },
    {
      "cell_type": "code",
      "source": [
        "reg=LinearRegression()\n",
        "reg.fit(X_train,y_train)"
      ],
      "metadata": {
        "id": "1U9QIPk1J09A"
      },
      "execution_count": null,
      "outputs": []
    },
    {
      "cell_type": "markdown",
      "source": [
        "One helpful way to evaluate the performance of a regression, is to look at the predicted versus target value plot and also report the correlation of the predicted value and the target value."
      ],
      "metadata": {
        "id": "zahITcqkKLzD"
      }
    },
    {
      "cell_type": "code",
      "source": [
        "y_pred=reg.predict(X_test)\n",
        "plt.scatter(y_test,y_pred)\n",
        "plt.ylim([0,80])\n",
        "plt.xlim([0,80])\n",
        "plt.plot([0,100],[0,100],'--r')\n",
        "plt.title(f'$r^2$={reg.score(X_test,y_test)}')\n",
        "plt.show()"
      ],
      "metadata": {
        "id": "oIGO5EyBKIMQ"
      },
      "execution_count": null,
      "outputs": []
    },
    {
      "cell_type": "markdown",
      "source": [
        "One useful thing we can glean from the fitted model is the linear equation calculated by the algorithm, we can do that through some of the properties present in the model."
      ],
      "metadata": {
        "id": "Dd8SrQ2sKSC2"
      }
    },
    {
      "cell_type": "code",
      "source": [
        "print('Coefficients')\n",
        "print(reg.coef_)\n",
        "\n",
        "print('Intercept')\n",
        "print(reg.intercept_)\n"
      ],
      "metadata": {
        "id": "Yokx57FvKRGc"
      },
      "execution_count": null,
      "outputs": []
    },
    {
      "cell_type": "code",
      "source": [
        "test_list=[f'{reg.coef_[i]} * {X_train.columns[i]}' for i in range(6)]\n",
        "print(f'Y = {reg.intercept_} + {\" + \".join(test_list)}')"
      ],
      "metadata": {
        "id": "mM-Mxq6NKXgL"
      },
      "execution_count": null,
      "outputs": []
    },
    {
      "cell_type": "markdown",
      "source": [
        "So far we have been writing codes lines by line, but with a bit of programming ingenuity, we write notebooks that can programatically run experiments for us"
      ],
      "metadata": {
        "id": "CfbszdO8KbNf"
      }
    },
    {
      "cell_type": "code",
      "source": [
        "scaler=StandardScaler()\n",
        "X_train_scaled=scaler.fit_transform(X_train)\n",
        "X_test_scaled=scaler.transform(X_test)\n",
        "params_dict= [{},\n",
        "              { 'alpha': [0.01,0.1,1,10],\n",
        "                'l1_ratio':[0,0.25,0.5,0.75,1]},\n",
        "              { 'max_depth': [3,5,7,9,None]},\n",
        "              { 'max_depth': [3,5,7,9,None],\n",
        "               'n_estimators': [100,200,500]},\n",
        "              { 'n_estimators': [50,100,150]},\n",
        "              { 'n_neighbors': [3,5,9,15,21,31]},\n",
        "              { 'C': [1.0,10,100,1000],\n",
        "                'degree': [2,3],\n",
        "  'kernel': ['poly','rbf'],\n",
        "  'epsilon': [0.1, 1, 3]}]\n",
        "\n",
        "regressors = [LinearRegression(),\n",
        "              SGDRegressor(),\n",
        "              DecisionTreeRegressor(),\n",
        "              RandomForestRegressor(),\n",
        "              AdaBoostRegressor(),\n",
        "              KNeighborsRegressor(),\n",
        "              SVR()]\n",
        "\n",
        "for idx,reg in enumerate(regressors):\n",
        "  gridsearch=GridSearchCV(reg,params_dict[idx])\n",
        "  gridsearch.fit(X_train_scaled,y_train)\n",
        "  reg.set_params(**gridsearch.best_params_)\n",
        "  reg.fit(X_train_scaled,y_train)\n",
        "  y_pred=reg.predict(X_test_scaled)\n",
        "  plt.scatter(y_test,y_pred)\n",
        "  plt.ylim([0,80])\n",
        "  plt.xlim([0,80])\n",
        "  plt.plot([0,100],[0,100],'--r')\n",
        "  plt.title(f'{reg} $r^2$={reg.score(X_test_scaled,y_test)}')\n",
        "  plt.show()"
      ],
      "metadata": {
        "id": "FmiZdpt1KaSZ"
      },
      "execution_count": null,
      "outputs": []
    },
    {
      "cell_type": "markdown",
      "source": [
        "# Additional Resources:\n",
        "- [Understanding common python error messages](https://colab.research.google.com/drive/10f5FDdXOBHAuO7CmNle8KgGH0mnv-kb8)\n"
      ],
      "metadata": {
        "id": "-0nDBC8WMDrv"
      }
    }
  ]
}