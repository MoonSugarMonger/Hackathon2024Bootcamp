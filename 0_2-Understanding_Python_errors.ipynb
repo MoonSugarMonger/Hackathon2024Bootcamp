{
  "nbformat": 4,
  "nbformat_minor": 0,
  "metadata": {
    "colab": {
      "provenance": [],
      "include_colab_link": true
    },
    "kernelspec": {
      "name": "python3",
      "display_name": "Python 3"
    },
    "language_info": {
      "name": "python"
    }
  },
  "cells": [
    {
      "cell_type": "markdown",
      "metadata": {
        "id": "view-in-github",
        "colab_type": "text"
      },
      "source": [
        "<a href=\"https://colab.research.google.com/github/cassales/Hackathon2024Bootcamp/blob/master/Understanding_Python_errors.ipynb\" target=\"_parent\"><img src=\"https://colab.research.google.com/assets/colab-badge.svg\" alt=\"Open In Colab\"/></a>"
      ]
    },
    {
      "cell_type": "markdown",
      "source": [
        "###Reading Stack traces"
      ],
      "metadata": {
        "id": "fftJXlf0fdFu"
      }
    },
    {
      "cell_type": "code",
      "execution_count": null,
      "metadata": {
        "id": "NAXhDZsbfYiM"
      },
      "outputs": [],
      "source": [
        "import pandas"
      ]
    },
    {
      "cell_type": "markdown",
      "source": [
        "When we see **SyntaxError: invalid syntax** it usually means there is a typo somewhere within the line, here, we typoed \"import\" and that caused an error"
      ],
      "metadata": {
        "id": "4PmSS1vtfozA"
      }
    },
    {
      "cell_type": "code",
      "source": [
        "import pyart"
      ],
      "metadata": {
        "id": "TAX6EqrPf7gv",
        "colab": {
          "base_uri": "https://localhost:8080/",
          "height": 322
        },
        "outputId": "8047e7af-2cdb-4ccf-a494-d8da8b20e4d3"
      },
      "execution_count": null,
      "outputs": [
        {
          "output_type": "error",
          "ename": "ModuleNotFoundError",
          "evalue": "No module named 'pyart'",
          "traceback": [
            "\u001b[0;31m---------------------------------------------------------------------------\u001b[0m",
            "\u001b[0;31mModuleNotFoundError\u001b[0m                       Traceback (most recent call last)",
            "\u001b[0;32m<ipython-input-10-413608f118be>\u001b[0m in \u001b[0;36m<cell line: 1>\u001b[0;34m()\u001b[0m\n\u001b[0;32m----> 1\u001b[0;31m \u001b[0;32mimport\u001b[0m \u001b[0mpyart\u001b[0m\u001b[0;34m\u001b[0m\u001b[0;34m\u001b[0m\u001b[0m\n\u001b[0m",
            "\u001b[0;31mModuleNotFoundError\u001b[0m: No module named 'pyart'",
            "",
            "\u001b[0;31m---------------------------------------------------------------------------\u001b[0;32m\nNOTE: If your import is failing due to a missing package, you can\nmanually install dependencies using either !pip or !apt.\n\nTo view examples of installing some common dependencies, click the\n\"Open Examples\" button below.\n\u001b[0;31m---------------------------------------------------------------------------\u001b[0m\n"
          ],
          "errorDetails": {
            "actions": [
              {
                "action": "open_url",
                "actionText": "Open Examples",
                "url": "/notebooks/snippets/importing_libraries.ipynb"
              }
            ]
          }
        }
      ]
    },
    {
      "cell_type": "markdown",
      "source": [
        "The error **ModuleNotFoundError: No module named 'pyart'** usually mean that there is either a typo in the module name, or the module hasn't been installed. A good resource to check is pypi.org which has a list of all the modules, (including the ones not installed in Colab) and install them. (Note that sometimes the installation name for the module may not be the same as the actual module name i.e. arm-pyart, which is why it is a good practice to check pypi before installing the modules   (ARM Pyart is a module used to read the surveilence radar files"
      ],
      "metadata": {
        "id": "5c8V7M-GigJx"
      }
    },
    {
      "cell_type": "code",
      "source": [
        "!pip install arm-pyart"
      ],
      "metadata": {
        "id": "1f7qXrYujOkd",
        "colab": {
          "base_uri": "https://localhost:8080/"
        },
        "outputId": "b6a43c00-53c4-4e07-ce42-b01e63b5f9fc"
      },
      "execution_count": null,
      "outputs": [
        {
          "output_type": "stream",
          "name": "stdout",
          "text": [
            "Collecting arm-pyart\n",
            "  Downloading arm_pyart-1.18.6-cp310-cp310-manylinux_2_17_x86_64.manylinux2014_x86_64.whl.metadata (2.1 kB)\n",
            "Requirement already satisfied: numpy in /usr/local/lib/python3.10/dist-packages (from arm-pyart) (1.26.4)\n",
            "Requirement already satisfied: scipy in /usr/local/lib/python3.10/dist-packages (from arm-pyart) (1.13.1)\n",
            "Collecting netCDF4>=1.7.0 (from arm-pyart)\n",
            "  Downloading netCDF4-1.7.1.post1-cp310-cp310-manylinux_2_17_x86_64.manylinux2014_x86_64.whl.metadata (1.8 kB)\n",
            "Requirement already satisfied: matplotlib in /usr/local/lib/python3.10/dist-packages (from arm-pyart) (3.7.1)\n",
            "Requirement already satisfied: pooch in /usr/local/lib/python3.10/dist-packages (from arm-pyart) (1.8.2)\n",
            "Collecting cftime (from arm-pyart)\n",
            "  Downloading cftime-1.6.4-cp310-cp310-manylinux_2_17_x86_64.manylinux2014_x86_64.whl.metadata (8.7 kB)\n",
            "Requirement already satisfied: fsspec in /usr/local/lib/python3.10/dist-packages (from arm-pyart) (2024.6.1)\n",
            "Collecting s3fs (from arm-pyart)\n",
            "  Downloading s3fs-2024.6.1-py3-none-any.whl.metadata (1.6 kB)\n",
            "Collecting open-radar-data (from arm-pyart)\n",
            "  Downloading open_radar_data-0.2-py3-none-any.whl.metadata (8.4 kB)\n",
            "Collecting xradar>=0.5.0 (from arm-pyart)\n",
            "  Downloading xradar-0.6.0-py3-none-any.whl.metadata (15 kB)\n",
            "Requirement already satisfied: pandas in /usr/local/lib/python3.10/dist-packages (from arm-pyart) (2.1.4)\n",
            "Collecting mda-xdrlib (from arm-pyart)\n",
            "  Downloading mda_xdrlib-0.2.0-py3-none-any.whl.metadata (19 kB)\n",
            "Requirement already satisfied: xarray!=0.21.0 in /usr/local/lib/python3.10/dist-packages (from arm-pyart) (2024.6.0)\n",
            "Requirement already satisfied: certifi in /usr/local/lib/python3.10/dist-packages (from netCDF4>=1.7.0->arm-pyart) (2024.7.4)\n",
            "Requirement already satisfied: packaging>=23.1 in /usr/local/lib/python3.10/dist-packages (from xarray!=0.21.0->arm-pyart) (24.1)\n",
            "Requirement already satisfied: python-dateutil>=2.8.2 in /usr/local/lib/python3.10/dist-packages (from pandas->arm-pyart) (2.8.2)\n",
            "Requirement already satisfied: pytz>=2020.1 in /usr/local/lib/python3.10/dist-packages (from pandas->arm-pyart) (2024.1)\n",
            "Requirement already satisfied: tzdata>=2022.1 in /usr/local/lib/python3.10/dist-packages (from pandas->arm-pyart) (2024.1)\n",
            "Collecting cmweather (from xradar>=0.5.0->arm-pyart)\n",
            "  Downloading cmweather-0.3.2-py3-none-any.whl.metadata (2.9 kB)\n",
            "Requirement already satisfied: dask in /usr/local/lib/python3.10/dist-packages (from xradar>=0.5.0->arm-pyart) (2024.7.1)\n",
            "Requirement already satisfied: h5netcdf>=1.0.0 in /usr/local/lib/python3.10/dist-packages (from xradar>=0.5.0->arm-pyart) (1.3.0)\n",
            "Requirement already satisfied: h5py>=3.0.0 in /usr/local/lib/python3.10/dist-packages (from xradar>=0.5.0->arm-pyart) (3.11.0)\n",
            "Collecting lat-lon-parser (from xradar>=0.5.0->arm-pyart)\n",
            "  Downloading lat_lon_parser-1.3.0-py2.py3-none-any.whl.metadata (3.8 kB)\n",
            "Requirement already satisfied: pyproj in /usr/local/lib/python3.10/dist-packages (from xradar>=0.5.0->arm-pyart) (3.6.1)\n",
            "Collecting xarray-datatree>=0.0.10 (from xradar>=0.5.0->arm-pyart)\n",
            "  Downloading xarray_datatree-0.0.14-py3-none-any.whl.metadata (6.9 kB)\n",
            "Collecting xmltodict (from xradar>=0.5.0->arm-pyart)\n",
            "  Downloading xmltodict-0.13.0-py2.py3-none-any.whl.metadata (7.7 kB)\n",
            "Requirement already satisfied: contourpy>=1.0.1 in /usr/local/lib/python3.10/dist-packages (from matplotlib->arm-pyart) (1.2.1)\n",
            "Requirement already satisfied: cycler>=0.10 in /usr/local/lib/python3.10/dist-packages (from matplotlib->arm-pyart) (0.12.1)\n",
            "Requirement already satisfied: fonttools>=4.22.0 in /usr/local/lib/python3.10/dist-packages (from matplotlib->arm-pyart) (4.53.1)\n",
            "Requirement already satisfied: kiwisolver>=1.0.1 in /usr/local/lib/python3.10/dist-packages (from matplotlib->arm-pyart) (1.4.5)\n",
            "Requirement already satisfied: pillow>=6.2.0 in /usr/local/lib/python3.10/dist-packages (from matplotlib->arm-pyart) (9.4.0)\n",
            "Requirement already satisfied: pyparsing>=2.3.1 in /usr/local/lib/python3.10/dist-packages (from matplotlib->arm-pyart) (3.1.2)\n",
            "Requirement already satisfied: platformdirs>=2.5.0 in /usr/local/lib/python3.10/dist-packages (from pooch->arm-pyart) (4.2.2)\n",
            "Requirement already satisfied: requests>=2.19.0 in /usr/local/lib/python3.10/dist-packages (from pooch->arm-pyart) (2.31.0)\n",
            "Collecting aiobotocore<3.0.0,>=2.5.4 (from s3fs->arm-pyart)\n",
            "  Downloading aiobotocore-2.13.1-py3-none-any.whl.metadata (22 kB)\n",
            "Requirement already satisfied: aiohttp!=4.0.0a0,!=4.0.0a1 in /usr/local/lib/python3.10/dist-packages (from s3fs->arm-pyart) (3.10.0)\n",
            "Collecting botocore<1.34.132,>=1.34.70 (from aiobotocore<3.0.0,>=2.5.4->s3fs->arm-pyart)\n",
            "  Downloading botocore-1.34.131-py3-none-any.whl.metadata (5.7 kB)\n",
            "Requirement already satisfied: wrapt<2.0.0,>=1.10.10 in /usr/local/lib/python3.10/dist-packages (from aiobotocore<3.0.0,>=2.5.4->s3fs->arm-pyart) (1.16.0)\n",
            "Collecting aioitertools<1.0.0,>=0.5.1 (from aiobotocore<3.0.0,>=2.5.4->s3fs->arm-pyart)\n",
            "  Downloading aioitertools-0.11.0-py3-none-any.whl.metadata (3.3 kB)\n",
            "Requirement already satisfied: aiohappyeyeballs>=2.3.0 in /usr/local/lib/python3.10/dist-packages (from aiohttp!=4.0.0a0,!=4.0.0a1->s3fs->arm-pyart) (2.3.4)\n",
            "Requirement already satisfied: aiosignal>=1.1.2 in /usr/local/lib/python3.10/dist-packages (from aiohttp!=4.0.0a0,!=4.0.0a1->s3fs->arm-pyart) (1.3.1)\n",
            "Requirement already satisfied: attrs>=17.3.0 in /usr/local/lib/python3.10/dist-packages (from aiohttp!=4.0.0a0,!=4.0.0a1->s3fs->arm-pyart) (23.2.0)\n",
            "Requirement already satisfied: frozenlist>=1.1.1 in /usr/local/lib/python3.10/dist-packages (from aiohttp!=4.0.0a0,!=4.0.0a1->s3fs->arm-pyart) (1.4.1)\n",
            "Requirement already satisfied: multidict<7.0,>=4.5 in /usr/local/lib/python3.10/dist-packages (from aiohttp!=4.0.0a0,!=4.0.0a1->s3fs->arm-pyart) (6.0.5)\n",
            "Requirement already satisfied: yarl<2.0,>=1.0 in /usr/local/lib/python3.10/dist-packages (from aiohttp!=4.0.0a0,!=4.0.0a1->s3fs->arm-pyart) (1.9.4)\n",
            "Requirement already satisfied: async-timeout<5.0,>=4.0 in /usr/local/lib/python3.10/dist-packages (from aiohttp!=4.0.0a0,!=4.0.0a1->s3fs->arm-pyart) (4.0.3)\n",
            "Requirement already satisfied: six>=1.5 in /usr/local/lib/python3.10/dist-packages (from python-dateutil>=2.8.2->pandas->arm-pyart) (1.16.0)\n",
            "Requirement already satisfied: charset-normalizer<4,>=2 in /usr/local/lib/python3.10/dist-packages (from requests>=2.19.0->pooch->arm-pyart) (3.3.2)\n",
            "Requirement already satisfied: idna<4,>=2.5 in /usr/local/lib/python3.10/dist-packages (from requests>=2.19.0->pooch->arm-pyart) (3.7)\n",
            "Requirement already satisfied: urllib3<3,>=1.21.1 in /usr/local/lib/python3.10/dist-packages (from requests>=2.19.0->pooch->arm-pyart) (2.0.7)\n",
            "Requirement already satisfied: click>=8.1 in /usr/local/lib/python3.10/dist-packages (from dask->xradar>=0.5.0->arm-pyart) (8.1.7)\n",
            "Requirement already satisfied: cloudpickle>=1.5.0 in /usr/local/lib/python3.10/dist-packages (from dask->xradar>=0.5.0->arm-pyart) (2.2.1)\n",
            "Requirement already satisfied: partd>=1.4.0 in /usr/local/lib/python3.10/dist-packages (from dask->xradar>=0.5.0->arm-pyart) (1.4.2)\n",
            "Requirement already satisfied: pyyaml>=5.3.1 in /usr/local/lib/python3.10/dist-packages (from dask->xradar>=0.5.0->arm-pyart) (6.0.1)\n",
            "Requirement already satisfied: toolz>=0.10.0 in /usr/local/lib/python3.10/dist-packages (from dask->xradar>=0.5.0->arm-pyart) (0.12.1)\n",
            "Requirement already satisfied: importlib-metadata>=4.13.0 in /usr/local/lib/python3.10/dist-packages (from dask->xradar>=0.5.0->arm-pyart) (8.2.0)\n",
            "Collecting jmespath<2.0.0,>=0.7.1 (from botocore<1.34.132,>=1.34.70->aiobotocore<3.0.0,>=2.5.4->s3fs->arm-pyart)\n",
            "  Downloading jmespath-1.0.1-py3-none-any.whl.metadata (7.6 kB)\n",
            "Requirement already satisfied: zipp>=0.5 in /usr/local/lib/python3.10/dist-packages (from importlib-metadata>=4.13.0->dask->xradar>=0.5.0->arm-pyart) (3.19.2)\n",
            "Requirement already satisfied: locket in /usr/local/lib/python3.10/dist-packages (from partd>=1.4.0->dask->xradar>=0.5.0->arm-pyart) (1.0.0)\n",
            "Downloading arm_pyart-1.18.6-cp310-cp310-manylinux_2_17_x86_64.manylinux2014_x86_64.whl (13.8 MB)\n",
            "\u001b[2K   \u001b[90m━━━━━━━━━━━━━━━━━━━━━━━━━━━━━━━━━━━━━━━━\u001b[0m \u001b[32m13.8/13.8 MB\u001b[0m \u001b[31m49.2 MB/s\u001b[0m eta \u001b[36m0:00:00\u001b[0m\n",
            "\u001b[?25hDownloading netCDF4-1.7.1.post1-cp310-cp310-manylinux_2_17_x86_64.manylinux2014_x86_64.whl (9.0 MB)\n",
            "\u001b[2K   \u001b[90m━━━━━━━━━━━━━━━━━━━━━━━━━━━━━━━━━━━━━━━━\u001b[0m \u001b[32m9.0/9.0 MB\u001b[0m \u001b[31m51.7 MB/s\u001b[0m eta \u001b[36m0:00:00\u001b[0m\n",
            "\u001b[?25hDownloading xradar-0.6.0-py3-none-any.whl (116 kB)\n",
            "\u001b[2K   \u001b[90m━━━━━━━━━━━━━━━━━━━━━━━━━━━━━━━━━━━━━━━━\u001b[0m \u001b[32m116.5/116.5 kB\u001b[0m \u001b[31m6.2 MB/s\u001b[0m eta \u001b[36m0:00:00\u001b[0m\n",
            "\u001b[?25hDownloading cftime-1.6.4-cp310-cp310-manylinux_2_17_x86_64.manylinux2014_x86_64.whl (1.3 MB)\n",
            "\u001b[2K   \u001b[90m━━━━━━━━━━━━━━━━━━━━━━━━━━━━━━━━━━━━━━━━\u001b[0m \u001b[32m1.3/1.3 MB\u001b[0m \u001b[31m35.7 MB/s\u001b[0m eta \u001b[36m0:00:00\u001b[0m\n",
            "\u001b[?25hDownloading mda_xdrlib-0.2.0-py3-none-any.whl (14 kB)\n",
            "Downloading open_radar_data-0.2-py3-none-any.whl (11 kB)\n",
            "Downloading s3fs-2024.6.1-py3-none-any.whl (29 kB)\n",
            "Downloading aiobotocore-2.13.1-py3-none-any.whl (76 kB)\n",
            "\u001b[2K   \u001b[90m━━━━━━━━━━━━━━━━━━━━━━━━━━━━━━━━━━━━━━━━\u001b[0m \u001b[32m76.9/76.9 kB\u001b[0m \u001b[31m4.5 MB/s\u001b[0m eta \u001b[36m0:00:00\u001b[0m\n",
            "\u001b[?25hDownloading xarray_datatree-0.0.14-py3-none-any.whl (63 kB)\n",
            "\u001b[2K   \u001b[90m━━━━━━━━━━━━━━━━━━━━━━━━━━━━━━━━━━━━━━━━\u001b[0m \u001b[32m63.7/63.7 kB\u001b[0m \u001b[31m3.3 MB/s\u001b[0m eta \u001b[36m0:00:00\u001b[0m\n",
            "\u001b[?25hDownloading cmweather-0.3.2-py3-none-any.whl (47 kB)\n",
            "\u001b[2K   \u001b[90m━━━━━━━━━━━━━━━━━━━━━━━━━━━━━━━━━━━━━━━━\u001b[0m \u001b[32m47.3/47.3 kB\u001b[0m \u001b[31m2.7 MB/s\u001b[0m eta \u001b[36m0:00:00\u001b[0m\n",
            "\u001b[?25hDownloading lat_lon_parser-1.3.0-py2.py3-none-any.whl (10 kB)\n",
            "Downloading xmltodict-0.13.0-py2.py3-none-any.whl (10.0 kB)\n",
            "Downloading aioitertools-0.11.0-py3-none-any.whl (23 kB)\n",
            "Downloading botocore-1.34.131-py3-none-any.whl (12.3 MB)\n",
            "\u001b[2K   \u001b[90m━━━━━━━━━━━━━━━━━━━━━━━━━━━━━━━━━━━━━━━━\u001b[0m \u001b[32m12.3/12.3 MB\u001b[0m \u001b[31m58.2 MB/s\u001b[0m eta \u001b[36m0:00:00\u001b[0m\n",
            "\u001b[?25hDownloading jmespath-1.0.1-py3-none-any.whl (20 kB)\n",
            "Installing collected packages: lat-lon-parser, xmltodict, mda-xdrlib, jmespath, cftime, aioitertools, netCDF4, botocore, open-radar-data, cmweather, aiobotocore, xarray-datatree, s3fs, xradar, arm-pyart\n",
            "Successfully installed aiobotocore-2.13.1 aioitertools-0.11.0 arm-pyart-1.18.6 botocore-1.34.131 cftime-1.6.4 cmweather-0.3.2 jmespath-1.0.1 lat-lon-parser-1.3.0 mda-xdrlib-0.2.0 netCDF4-1.7.1.post1 open-radar-data-0.2 s3fs-2024.6.1 xarray-datatree-0.0.14 xmltodict-0.13.0 xradar-0.6.0\n"
          ]
        }
      ]
    },
    {
      "cell_type": "markdown",
      "source": [
        "Watch for any error messages, sometimes it is because the module is OS/system specific, or has conflicts with other modules. If we stick to the standard modules, it usually goes without a hitch. Now that it is installed, let's go on to the next bit."
      ],
      "metadata": {
        "id": "os4-yQHYkAe1"
      }
    },
    {
      "cell_type": "code",
      "source": [
        "import pyart"
      ],
      "metadata": {
        "id": "RopqUl7qkSOp",
        "colab": {
          "base_uri": "https://localhost:8080/"
        },
        "outputId": "e561fd37-f4e9-4b59-ca5c-51dbcd1ec179"
      },
      "execution_count": null,
      "outputs": [
        {
          "output_type": "stream",
          "name": "stdout",
          "text": [
            "\n",
            "## You are using the Python ARM Radar Toolkit (Py-ART), an open source\n",
            "## library for working with weather radar data. Py-ART is partly\n",
            "## supported by the U.S. Department of Energy as part of the Atmospheric\n",
            "## Radiation Measurement (ARM) Climate Research Facility, an Office of\n",
            "## Science user facility.\n",
            "##\n",
            "## If you use this software to prepare a publication, please cite:\n",
            "##\n",
            "##     JJ Helmus and SM Collis, JORS 2016, doi: 10.5334/jors.119\n",
            "\n"
          ]
        }
      ]
    },
    {
      "cell_type": "markdown",
      "source": [
        "Another common mistake is to forget the parentheses when calling a function"
      ],
      "metadata": {
        "id": "EOrH3AmlH50h"
      }
    },
    {
      "cell_type": "code",
      "source": [
        "print 123"
      ],
      "metadata": {
        "id": "StDMnkbUHzYr",
        "colab": {
          "base_uri": "https://localhost:8080/",
          "height": 109
        },
        "outputId": "8149ad21-a3d8-43a0-eb9e-dcac552c094f"
      },
      "execution_count": null,
      "outputs": [
        {
          "output_type": "error",
          "ename": "SyntaxError",
          "evalue": "Missing parentheses in call to 'print'. Did you mean print(...)? (<ipython-input-13-fb941b049711>, line 1)",
          "traceback": [
            "\u001b[0;36m  File \u001b[0;32m\"<ipython-input-13-fb941b049711>\"\u001b[0;36m, line \u001b[0;32m1\u001b[0m\n\u001b[0;31m    print 123\u001b[0m\n\u001b[0m    ^\u001b[0m\n\u001b[0;31mSyntaxError\u001b[0m\u001b[0;31m:\u001b[0m Missing parentheses in call to 'print'. Did you mean print(...)?\n"
          ]
        }
      ]
    },
    {
      "cell_type": "markdown",
      "source": [
        "Or neglecting to import the library that provide the function"
      ],
      "metadata": {
        "id": "bGEbWuwzIEsW"
      }
    },
    {
      "cell_type": "code",
      "source": [
        "from numpy import argmax ##fix for line 1\n",
        "import numpy as np ##fix for line 2\n",
        "argmax([1,2,3]) # both of these will cause an error\n",
        "np.argmax([1,2,3])\n",
        "\n"
      ],
      "metadata": {
        "id": "-GU05aYeIPOR",
        "colab": {
          "base_uri": "https://localhost:8080/"
        },
        "outputId": "bd1820b6-dbe2-4dc4-f51a-c57281314e09"
      },
      "execution_count": null,
      "outputs": [
        {
          "output_type": "execute_result",
          "data": {
            "text/plain": [
              "2"
            ]
          },
          "metadata": {},
          "execution_count": 18
        }
      ]
    },
    {
      "cell_type": "markdown",
      "source": [
        "### In the following we are going to learn how to avoid some of the more complex errors and resolve them"
      ],
      "metadata": {
        "id": "9FQuflTXkqaz"
      }
    },
    {
      "cell_type": "code",
      "source": [
        "myList=[1,2,3,45]\n",
        "print('Hello world, in this example, we have missed out a matching quote mark, we can resolve this by either changing quotation marks')\n",
        "print('In this example, we missed out a matching close parenthesis, we can resolve this by adding the appropriate  parenthesis')\n",
        "myVar={42,]\n"
      ],
      "metadata": {
        "id": "LsDCJ1mzkWEI",
        "colab": {
          "base_uri": "https://localhost:8080/",
          "height": 109
        },
        "outputId": "cfff0b67-987a-47bd-ea23-d09fa2ba3488"
      },
      "execution_count": null,
      "outputs": [
        {
          "output_type": "error",
          "ename": "SyntaxError",
          "evalue": "closing parenthesis ']' does not match opening parenthesis '{' (<ipython-input-22-f8f16f76e23e>, line 4)",
          "traceback": [
            "\u001b[0;36m  File \u001b[0;32m\"<ipython-input-22-f8f16f76e23e>\"\u001b[0;36m, line \u001b[0;32m4\u001b[0m\n\u001b[0;31m    myVar={42,]\u001b[0m\n\u001b[0m              ^\u001b[0m\n\u001b[0;31mSyntaxError\u001b[0m\u001b[0;31m:\u001b[0m closing parenthesis ']' does not match opening parenthesis '{'\n"
          ]
        }
      ]
    },
    {
      "cell_type": "markdown",
      "source": [
        "Here there are multiple errors of the same nature, i/e the blocks are not terminated correctly. All \"blocks\" need to be terminated using the same type of symbols. There are minor difference between the different terminators, but for now we will ignore the difference. Note that although there are multiple errors, python didn't report all of them, (and not even the first error (there are reasons for that)). Try fixing the errors one at a time and see how the error messages \"changes\""
      ],
      "metadata": {
        "id": "EC1ReOWul24V"
      }
    },
    {
      "cell_type": "code",
      "source": [
        "print('Notice that this is fine')\n",
        "print = 512\n",
        "print('Notice that this is not fine')\n"
      ],
      "metadata": {
        "id": "y69FICP1nhIU"
      },
      "execution_count": null,
      "outputs": []
    },
    {
      "cell_type": "markdown",
      "source": [
        "Sometimes you may find that running the same block of code works the first time, but fails on subsequent runs. Python allows users to use any variable name even names of important functions. In this example, we have \"corrupted\" the function print, and it now behaves like the value '512'. For this reason, it is a good practice to use very descriptive names for any user defined variables, and prepend them with the name my.. ie 'myPrintValue = 512'. Usually at this point I would help my students find the offending variable, fix it and restart the kernel(Python) from scratch, but here because the I know that nothing is corrupted, and I know that I can just delete the offending variable name to get it working. I am just going to do just that."
      ],
      "metadata": {
        "id": "RiuKszAroLFi"
      }
    },
    {
      "cell_type": "code",
      "source": [
        "del(print)\n",
        "print('Notice that this is now fine')"
      ],
      "metadata": {
        "id": "K96xxCS7oHL2"
      },
      "execution_count": null,
      "outputs": []
    },
    {
      "cell_type": "markdown",
      "source": [
        "### Loops, cases, and indentations in Python"
      ],
      "metadata": {
        "id": "WQSHadQ7p-Lf"
      }
    },
    {
      "cell_type": "code",
      "source": [
        "for i in range(10)\n",
        "    print(i)"
      ],
      "metadata": {
        "id": "IKEbaEHcqRXJ"
      },
      "execution_count": null,
      "outputs": []
    },
    {
      "cell_type": "code",
      "source": [
        "for i in range(10):\n",
        "print(i)"
      ],
      "metadata": {
        "id": "1QN4XvyotLOR"
      },
      "execution_count": null,
      "outputs": []
    },
    {
      "cell_type": "markdown",
      "source": [
        "In python, every case block and loop blocks are terminated with a : and followed by an indented block"
      ],
      "metadata": {
        "id": "KCc1p84Qq4GY"
      }
    },
    {
      "cell_type": "code",
      "source": [
        "for i in range(10):\n",
        "   print('Current value is ',i)\n",
        "    print('Previous value is ',i-1)"
      ],
      "metadata": {
        "id": "PHhoIYJEqmTF"
      },
      "execution_count": null,
      "outputs": []
    },
    {
      "cell_type": "markdown",
      "source": [
        "In python the indentation shows that the code belongs to the same block as the other code within the indent. An important thing to note if you are writing Python code outside of Colab is that \"tab\" and \"space\" are intepreted differently and you cannot mix the two for your indents (this a source of my annoyance when using notepad++ to write codes). Fortunately Colab automatically converts \"tabs\" to \"space\" for the user's convenience"
      ],
      "metadata": {
        "id": "dGLFwI1yrB74"
      }
    },
    {
      "cell_type": "code",
      "source": [
        "print(\"This line is not indented\")\n",
        " print(\"I accidentally added a space before the start of this line\")\n"
      ],
      "metadata": {
        "id": "EKNzx3PeJLd6"
      },
      "execution_count": null,
      "outputs": []
    },
    {
      "cell_type": "markdown",
      "source": [
        "Notice that python is extremely sensitive to indents, and if the users accidentally indents the code, the user may end up with errors."
      ],
      "metadata": {
        "id": "7rHYFL-FJeeU"
      }
    },
    {
      "cell_type": "code",
      "source": [
        "import pandas as pd"
      ],
      "metadata": {
        "id": "yD9cE_zEshpX"
      },
      "execution_count": null,
      "outputs": []
    },
    {
      "cell_type": "code",
      "source": [
        "myDataFrame=pd.readcsv(filename='myfile.csv')"
      ],
      "metadata": {
        "id": "CkH5dOn6se-r"
      },
      "execution_count": null,
      "outputs": []
    },
    {
      "cell_type": "markdown",
      "source": [
        "Module .... has no attribute .... usually means that user has typoed the function/variable name, a good resource to check would be to look at the module documentation (again you can find it by clicking homepage at pypi.org)"
      ],
      "metadata": {
        "id": "NwFsc7Xct0oe"
      }
    },
    {
      "cell_type": "code",
      "source": [
        "myDataFrame=pd.read_csv(filename='myfile.csv')"
      ],
      "metadata": {
        "id": "o9WVD8fQtoVe"
      },
      "execution_count": null,
      "outputs": []
    },
    {
      "cell_type": "markdown",
      "source": [
        "**Unexpected keyword usually means that one of the arguments in the function is incorrect, again, look at the module documentation to find out how to call the function**"
      ],
      "metadata": {
        "id": "tsWA0prOuqug"
      }
    },
    {
      "cell_type": "code",
      "source": [
        "myDataFrame=pd.read_csv(myfile.csv)"
      ],
      "metadata": {
        "id": "F5VO8OFLtsZQ"
      },
      "execution_count": null,
      "outputs": []
    },
    {
      "cell_type": "markdown",
      "source": [
        "Another thing to remember is that all strings (text) needs to be in quotes, if you pass it without quotes, python is going to assume you are trying to pass a variable. Here we are getting an error because the variable myfile.csv is not defined"
      ],
      "metadata": {
        "id": "9KPafpIWvT8n"
      }
    },
    {
      "cell_type": "code",
      "source": [
        "myDataFrame=pd.read_csv('myfile.csv')"
      ],
      "metadata": {
        "id": "uTZoAAEfuhuZ"
      },
      "execution_count": null,
      "outputs": []
    },
    {
      "cell_type": "markdown",
      "source": [
        "The example of the wall of text above is called a stack trace, usually the most pertinent message is at the top and the bottom of the stack trace. Fortunately Colab hides the messy middle bits and only highlight the pertinent bits. here we can tell that this error is caused because the file 'myfile.csv' is not found. It is possible that it is in a different folder than what python is expecting or it hasn't been uploaded. Handily there is a button \"SEARCH STACK OVERFLOW\" clicking on this will search StackOverflow (a handy website for programming) for the same error."
      ],
      "metadata": {
        "id": "RMtDlulHvOJj"
      }
    },
    {
      "cell_type": "markdown",
      "source": [
        "Additional notes, sometimes the version installed does not match the documentation. It is important to check the version of the library using \"`library_name.__version__`'"
      ],
      "metadata": {
        "id": "QvDM5LqY11Lk"
      }
    },
    {
      "cell_type": "code",
      "source": [
        "pd.__version__"
      ],
      "metadata": {
        "id": "OcZsh-G_2Kgn"
      },
      "execution_count": null,
      "outputs": []
    }
  ]
}